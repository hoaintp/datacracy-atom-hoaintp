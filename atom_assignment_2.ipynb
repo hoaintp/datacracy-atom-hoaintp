{
  "nbformat": 4,
  "nbformat_minor": 0,
  "metadata": {
    "colab": {
      "name": "#atom-assignment-2 (copy).ipynb",
      "provenance": [],
      "collapsed_sections": [],
      "toc_visible": true,
      "include_colab_link": true
    },
    "kernelspec": {
      "name": "python3",
      "display_name": "Python 3"
    },
    "language_info": {
      "name": "python"
    }
  },
  "cells": [
    {
      "cell_type": "markdown",
      "metadata": {
        "id": "view-in-github",
        "colab_type": "text"
      },
      "source": [
        "<a href=\"https://colab.research.google.com/github/hoaintp/datacracy-atom-hoaintp/blob/main/atom_assignment_2.ipynb\" target=\"_parent\"><img src=\"https://colab.research.google.com/assets/colab-badge.svg\" alt=\"Open In Colab\"/></a>"
      ]
    },
    {
      "cell_type": "markdown",
      "metadata": {
        "id": "WNjHxu0-0Urk"
      },
      "source": [
        "## 0. Initial Set-up"
      ]
    },
    {
      "cell_type": "markdown",
      "metadata": {
        "id": "ky3QJTULRGhG"
      },
      "source": [
        "1. Clone this Github repo về máy: https://github.com/anhdanggit/atom-assignments\n",
        "2. Mở file `env_variable_test.json`. Thay đổi & Đổi tên thành `env_variable.json`: \n",
        "  - `\"SENDER_EMAIL\"`: Email của bạn\n",
        "  - `\"PWD_EMAIL\"`: App Password tương ứng với Email trên (Hướng Dẫn: [link](https://support.google.com/accounts/answer/185833?p=InvalidSecondFactor&visit_id=637562139468610337-3856071038&rd=1))\n",
        "  - `\"WEATHER_API_KEY\"`: API Key của account của bạn trên [Open Weather Map](https://support.google.com/accounts/answer/185833?p=InvalidSecondFactor&visit_id=637562139468610337-3856071038&rd=1)\n",
        "3. Upload lên Files hoặc Google Drive, nếu bạn sử dụng Google Colab.\n",
        "\n",
        "**!!!! NOTICE !!!!** File json sau khi cho các thông tin thực của bạn, KHÔNG đưa lên Github hay để public. Tips: Để tên `env_variable.json` trong file `.gitignore` để Git tự động ignore không publish file này."
      ]
    },
    {
      "cell_type": "markdown",
      "metadata": {
        "id": "mQHvoBrV2wAS"
      },
      "source": [
        "### 0.1. Environment Variables"
      ]
    },
    {
      "cell_type": "markdown",
      "metadata": {
        "id": "wsarlH3fTc0_"
      },
      "source": [
        "\n",
        "\n",
        "\n",
        "\n",
        "Đặt `!` phía trước 1 cell để bắt đầu viết lệnh [Shell Commands](https://docs.cs.cf.ac.uk/notes/linux-shell-commands/) (đây là các lệnh giao tiếp với OS - Hệ điều hành đang dùng bên dưới để chạy Colab Notebook)"
      ]
    },
    {
      "cell_type": "code",
      "metadata": {
        "id": "I2nTgPRQ1MjI",
        "colab": {
          "base_uri": "https://localhost:8080/"
        },
        "outputId": "4fbd79aa-ff7f-465c-818c-05b51563d7e0"
      },
      "source": [
        "#để liệt kể các files đang có trong cùng \"folder\" với file notebook\n",
        "!ls"
      ],
      "execution_count": null,
      "outputs": [
        {
          "output_type": "stream",
          "text": [
            "env_variable.json  sample_data\n"
          ],
          "name": "stdout"
        }
      ]
    },
    {
      "cell_type": "code",
      "metadata": {
        "id": "3EPceevo0yWp"
      },
      "source": [
        "!python env_variable.json #để chạy một file python (bên ngoài notebook)"
      ],
      "execution_count": null,
      "outputs": []
    },
    {
      "cell_type": "code",
      "metadata": {
        "id": "j3Fv0NUdXyd1"
      },
      "source": [
        "import json\n",
        "with open('env_variable.json', 'r') as j:\n",
        "    json_data = json.load(j)\n",
        "    print(json_data)"
      ],
      "execution_count": null,
      "outputs": []
    },
    {
      "cell_type": "markdown",
      "metadata": {
        "id": "ZWYv-VjeZpK2"
      },
      "source": [
        "### Concept: JSON File\n",
        "* JSON là một dạng đa ta phổ biến, có dạng key-value. Nghĩa là những giá trị bên trong có thể \"gọi\" bằng các key, tương tự cấu trúc của Dictionary (Week 2)\n",
        "* Reference: [JSON Data in Python](https://www.datacamp.com/community/tutorials/json-data-python?utm_source=adwords_ppc&utm_campaignid=1455363063&utm_adgroupid=65083631748&utm_device=c&utm_keyword=&utm_matchtype=b&utm_network=g&utm_adpostion=&utm_creative=278443377095&utm_targetid=aud-522010995285:dsa-429603003980&utm_loc_interest_ms=&utm_loc_physical_ms=1028581&gclid=Cj0KCQjws-OEBhCkARIsAPhOkIYshv7eHMZhcLYnRmnCVdoXMbchc_nxeSYbyoGnSlauIGaJWudvBf8aAql6EALw_wcB)"
      ]
    },
    {
      "cell_type": "markdown",
      "metadata": {
        "id": "TPqTOA8DbGgq"
      },
      "source": [
        "### TODO #1\n",
        "1. Thử un-comment bằng cách để dấu nháy chuột ở dòng print(json_data) và nhấn `Ctrl+/`. Sau đó, chạy lại.\n",
        "2. Cấu trúc của `json_data` tương tự `dictionary`: thử gọi biến `SENDER_EMAIL` trong file json và `print`\n",
        "=> Task này sẽ giúp bạn tìm hiểu thêm về cấu trúc của 1 file JSON."
      ]
    },
    {
      "cell_type": "code",
      "metadata": {
        "colab": {
          "base_uri": "https://localhost:8080/"
        },
        "id": "vdnvUceiomy2",
        "outputId": "e1af9ea4-0578-4d2d-acd6-cc024b861f01"
      },
      "source": [
        "print (json_data['SENDER_EMAIL'])"
      ],
      "execution_count": null,
      "outputs": [
        {
          "output_type": "stream",
          "text": [
            "phuonghoaiftu2.k55@gmail.com\n"
          ],
          "name": "stdout"
        }
      ]
    },
    {
      "cell_type": "markdown",
      "metadata": {
        "id": "1SU_ozhPU2B1"
      },
      "source": [
        "### Concept: Environment Variables\n",
        "* [Environment Variables](https://medium.com/chingu/an-introduction-to-environment-variables-and-how-to-use-them-f602f66d15fa#:~:text=An%20environment%20variable%20is%20a,at%20a%20point%20in%20time.) là các biến (variable) được set bên ngoài program\n",
        "* Lý do: Có một số value có tính nhạy cảm (password), việc để trong code (và đưa lên Git) sẽ không bảo mật các thông tin này\n",
        "\n",
        "Trong đoạn code dưới, ta giữ các thông tin nhạy cảm khỏi code bằng việc lưu giữ trong một file json, và gọi các giá trị `SENDER_MAIL`, `PWD_EMAIL`, `API_KEY` lưu vào Environmental Variables."
      ]
    },
    {
      "cell_type": "code",
      "metadata": {
        "colab": {
          "base_uri": "https://localhost:8080/"
        },
        "id": "4vlqLayL2IDd",
        "outputId": "b665fd90-d239-48ce-840d-16525b52c743"
      },
      "source": [
        "import os\n",
        "os.environ['SENDER_EMAIL'] = json_data['SENDER_EMAIL'] ## INPUT: Your Email\n",
        "os.environ['PWD_EMAIL'] = json_data['PWD_EMAIL'] ## INPUT: Your App Password\n",
        "os.environ['WEATHER_API_KEY'] = json_data['WEATHER_API_KEY'] ## INPUT: OpenWeather API Key\n",
        "print('DONE! Get Env. Variable')"
      ],
      "execution_count": null,
      "outputs": [
        {
          "output_type": "stream",
          "text": [
            "DONE! Get Env. Variable\n"
          ],
          "name": "stdout"
        }
      ]
    },
    {
      "cell_type": "code",
      "metadata": {
        "colab": {
          "base_uri": "https://localhost:8080/"
        },
        "id": "pnWQlWHMZja7",
        "outputId": "c1ea4fb1-e1b4-468f-ace7-b8678d4c3bb3"
      },
      "source": [
        "print(os.environ['SENDER_EMAIL'])"
      ],
      "execution_count": null,
      "outputs": [
        {
          "output_type": "stream",
          "text": [
            "phuonghoaiftu2.k55@gmail.com\n"
          ],
          "name": "stdout"
        }
      ]
    },
    {
      "cell_type": "markdown",
      "metadata": {
        "id": "fnJtI0S12eh-"
      },
      "source": [
        "### 0.2. Import Modules\n",
        "\n",
        "\n",
        "*   [Modules](https://docs.python.org/3/tutorial/modules.html): là một file gồm các definitions & statements trong python. Nói nôm ra, modules là một gói chứa nhiều functions. \n",
        "*   Dấu `.` chỉ sự \"thuộc về\": a.b.c nghĩa là c nằm trong b, b nằm trong a. Ví dụ: `json.load()` nghĩa là function `load()` trong module `json()`\n",
        "*   Load một module bằng `import` \n",
        "*   Install một module vào máy bằng: `!pip install`. Có dấu `!`, nghĩa là **Shell Commands** (đây là các lệnh giao tiếp với OS - Hệ điều hành đang dùng bên dưới để chạy Colab Notebook)\n",
        "\n",
        "Dưới đây ta import tất cả các module cần sử dụng cho Assignment, một practice tốt là gom hết các modules và install trên đầu notebook/file code.\n",
        "\n"
      ]
    },
    {
      "cell_type": "code",
      "metadata": {
        "id": "pbOfgkfU3XYz",
        "colab": {
          "base_uri": "https://localhost:8080/"
        },
        "outputId": "bd8f9fac-0cac-44e1-e635-3bd86893e713"
      },
      "source": [
        "!pip install beautifulsoup4 #beautifulsoup4 is a Python library for pulling data out of HTML and XML files"
      ],
      "execution_count": null,
      "outputs": [
        {
          "output_type": "stream",
          "text": [
            "Requirement already satisfied: beautifulsoup4 in /usr/local/lib/python3.7/dist-packages (4.6.3)\n"
          ],
          "name": "stdout"
        }
      ]
    },
    {
      "cell_type": "code",
      "metadata": {
        "id": "C0dJywJtOtEK"
      },
      "source": [
        "import email, smtplib, ssl # to automate email\n",
        "import email as mail\n",
        "from email import encoders\n",
        "from email.mime.base import MIMEBase\n",
        "from email.mime.multipart import MIMEMultipart\n",
        "from email.mime.text import MIMEText\n",
        "\n",
        "import requests, json # to pull API, and work with json\n",
        "import datetime as dt # to work with date, time\n",
        "from bs4 import BeautifulSoup # to work with web scrapping (HTML)\n",
        "import pandas as pd # to work with tables (DataFrames) data\n",
        "from IPython.core.display import HTML # to display HTML in the notebook"
      ],
      "execution_count": null,
      "outputs": []
    },
    {
      "cell_type": "markdown",
      "metadata": {
        "id": "KkJiWpgkgNyB"
      },
      "source": [
        "## 1. Email Bot\n",
        "Đoạn code sau để gửi email:\n",
        "- Từ: `SENDER_EMAIL`\n",
        "- Đến: `RECEIVER_MAIL`\n",
        "- Với subject và body gồm 3 phần: Phần nội dung được viết bằng HTML, nếu chưa quen thuộc bạn có thể dùng công cụ xong để convert từ style của MS Word sang HTML: https://wordtohtml.net/"
      ]
    },
    {
      "cell_type": "code",
      "metadata": {
        "id": "9unEmluARSpH",
        "colab": {
          "base_uri": "https://localhost:8080/"
        },
        "outputId": "a66360c6-437b-401f-f773-cce2f50f39ae"
      },
      "source": [
        "subject = \"Test Email\" #INPUT1: Subject of the Email\n",
        "receiver_email = input(\"Your email: \") #INPUT2: email address to receive the email\n",
        "sender_email = os.environ['SENDER_EMAIL']\n",
        "password = os.environ['PWD_EMAIL'] \n",
        "\n",
        "# (1) Create the email head (sender, receiver, and subject)\n",
        "email = MIMEMultipart()\n",
        "email[\"From\"] = sender_email\n",
        "email[\"To\"] = receiver_email \n",
        "email[\"Subject\"] = subject\n",
        "\n",
        "# (2) Create Body part\n",
        "# We use html, you can convert word to html: https://wordtohtml.net/\n",
        "html1 = \"\"\"\n",
        "    <html>\n",
        "    <h1><strong>Hello World</strong></h1>\n",
        "    <body>\n",
        "    <p>Hi!<br>\n",
        "       How are you?<br>\n",
        "       Here is the <a href=\"https://docs.python.org/3.4/library/email-examples.html\">link</a> you wanted.\n",
        "    </p>\n",
        "    </body>\n",
        "    </html>\n",
        "    \"\"\"\n",
        "html2 = \"\"\"\n",
        "<html>\n",
        "Email sent at <b>{}</b><br>\n",
        "</html>\n",
        "\"\"\".format(dt.datetime.now().isoformat())\n",
        "\n",
        "text3 = '--- End ----'\n",
        "\n",
        "# Combine parts\n",
        "part1 = MIMEText(html1, 'html')\n",
        "part2 = MIMEText(html2, 'html')\n",
        "part3 = MIMEText(text3, 'plain')\n",
        "\n",
        "email.attach(part1)\n",
        "email.attach(part2)\n",
        "email.attach(part3)\n",
        "\n",
        "# (3) Create SMTP session for sending the mail\n",
        "session = smtplib.SMTP('smtp.gmail.com', 587) #use gmail with port\n",
        "session.starttls() #enable security\n",
        "session.login(sender_email, password) #login with mail_id and password\n",
        "text = email.as_string()\n",
        "session.sendmail(sender_email, receiver_email, text)\n",
        "session.quit()\n",
        "\n",
        "print('DONE! Mail Sent'.format(sender_email, receiver_email))"
      ],
      "execution_count": null,
      "outputs": [
        {
          "output_type": "stream",
          "text": [
            "Your email: nguyennguyen.sayuri@gmail.com\n",
            "DONE! Mail Sent\n"
          ],
          "name": "stdout"
        }
      ]
    },
    {
      "cell_type": "markdown",
      "metadata": {
        "id": "LKXSTGhMiyGa"
      },
      "source": [
        "### TODO #2\n",
        "1.   Từ Email Bot Code viết function `send_email`:\n",
        "  - **inputs**: subject, receiver_email, part1, part2, part3\n",
        "  - **output**: thực hiện việc gửi email và in ra kết quả\n",
        "2.   Kết hợp Loops (For ... in) với function để gửi cùng nội dung email đến 1 list user: `email_list = ['abc@gmail.com', 'xyz@gmail.com']` (thay đổi email bằng các email thật của bạn để test)"
      ]
    },
    {
      "cell_type": "code",
      "metadata": {
        "id": "2YV6peDOmNkA"
      },
      "source": [
        "def send_email(receiver_email):\n",
        "  template = MIMEMultipart()\n",
        "  template[\"From\"] = sender_email\n",
        "  template[\"To\"] = receiver_email\n",
        "  template[\"Subject\"] = \"Hello there!\"\n",
        "  \n",
        "  html = \"\"\"\n",
        " <p>Hello there!</p>\n",
        "<p>Finally, <strong><span style=\"background-color: rgb(97, 189, 109);\">we made it! </span></strong>😉</p>\n",
        "  \"\"\"\n",
        "\n",
        "  part = MIMEText(html,'html')\n",
        "\n",
        "  template.attach(part)\n",
        "\n",
        "  session = smtplib.SMTP('smtp.gmail.com', 587) #use gmail with port\n",
        "  session.starttls() #enable security\n",
        "  session.login(sender_email, password) #login with mail_id and password\n",
        "  text = template.as_string()\n",
        "  session.sendmail(sender_email, receiver_email, text)\n",
        "  print('Email Sent To ' + str(receiver_email))"
      ],
      "execution_count": null,
      "outputs": []
    },
    {
      "cell_type": "code",
      "metadata": {
        "id": "4ydkiKUqmhMw",
        "colab": {
          "base_uri": "https://localhost:8080/"
        },
        "outputId": "768af7cd-9ff3-410a-edb5-b2cdd2baa7a6"
      },
      "source": [
        "email_list = ['nguyennguyen.sayuri@gmail.com','abc@xyz.io']\n",
        "for i in email_list:\n",
        "  send_email(i)"
      ],
      "execution_count": null,
      "outputs": [
        {
          "output_type": "stream",
          "text": [
            "Email Sent To nguyennguyen.sayuri@gmail.com\n",
            "Email Sent To abc@xyz.io\n"
          ],
          "name": "stdout"
        }
      ]
    },
    {
      "cell_type": "markdown",
      "metadata": {
        "id": "RM7HKTGIh9IC"
      },
      "source": [
        "## Call API"
      ]
    },
    {
      "cell_type": "markdown",
      "metadata": {
        "id": "z22CtbW8mvqh"
      },
      "source": [
        "### Concept: API\n",
        "* **API** ([Application Programming Interface](https://en.wikipedia.org/wiki/API)): Là cách thức và phương tiện để 2 applications nói chuyện với nhau. Ở đây là giữa Python program trên Colab của bạn và các Web application khác. \n",
        "* Đây là concept nền tảng trong việc Automation\n",
        "* API nhận input là JSON file (có khi không nhận) và trả lại output là JSON file => Request/Call API\n",
        "* Đây là một cách phổ biến đế gửi và nhận data\n",
        "\n",
        "Đoạn code bên dưới: \n",
        "* Lấy input là `API_KEY`, country, ta request **API** của Open Weather\n",
        "* Được trả lại file kết quả dưới dạng `JSON`\n",
        "* Trích xuất 1 vài thông tin, và lưu ra file text"
      ]
    },
    {
      "cell_type": "code",
      "metadata": {
        "colab": {
          "base_uri": "https://localhost:8080/"
        },
        "id": "3ZzdPfFbiCZa",
        "outputId": "cbfbbf0c-da56-463a-da71-688b0a0d2535"
      },
      "source": [
        "# base URL\n",
        "BASE_URL = \"https://api.openweathermap.org/data/2.5/weather?\"\n",
        "# City Name \n",
        "CITY = \"London\"\n",
        "# API key \n",
        "API_KEY = os.environ['WEATHER_API_KEY']\n",
        "# upadting the URL\n",
        "URL = BASE_URL + \"q=\" + CITY + \"&appid=\" + API_KEY\n",
        "# HTTP request\n",
        "response = requests.get(URL)\n",
        "# checking the status code of the request\n",
        "if response.status_code == 200:\n",
        "   # getting data in the json format\n",
        "   data = response.json()\n",
        "   # getting the main dict block\n",
        "   main = data['main']\n",
        "   # getting temperature\n",
        "   temperature = main['temp']\n",
        "   # getting the humidity\n",
        "   humidity = main['humidity']\n",
        "   # getting the pressure\n",
        "   pressure = main['pressure']\n",
        "   # weather report\n",
        "   report = data['weather']\n",
        "   f = open('weather.txt','w') ## write to text file\n",
        "   print(f\"{CITY:-^30}\", file=f)\n",
        "   print(f\"Temperature: {temperature}\", file=f)\n",
        "   print(f\"Humidity: {humidity}\", file=f)\n",
        "   print(f\"Pressure: {pressure}\", file=f)\n",
        "   print(f\"Weather Report: {report[0]['description']}\", file=f)\n",
        "   f.close()\n",
        "   print(\"DONE! Output in weather.txt file\")\n",
        "else:\n",
        "   # showing the error message\n",
        "   print(\"Error in the HTTP request\")\n",
        "   print(response)"
      ],
      "execution_count": null,
      "outputs": [
        {
          "output_type": "stream",
          "text": [
            "DONE! Output in weather.txt file\n"
          ],
          "name": "stdout"
        }
      ]
    },
    {
      "cell_type": "code",
      "metadata": {
        "colab": {
          "base_uri": "https://localhost:8080/"
        },
        "id": "aOTClQTCn7wh",
        "outputId": "c8a74544-6073-4d72-9c4c-9254fd99d3c2"
      },
      "source": [
        "!ls"
      ],
      "execution_count": null,
      "outputs": [
        {
          "output_type": "stream",
          "text": [
            "sample_data  weather.txt\n"
          ],
          "name": "stdout"
        }
      ]
    },
    {
      "cell_type": "code",
      "metadata": {
        "colab": {
          "base_uri": "https://localhost:8080/"
        },
        "id": "I_4mwiKRpVzJ",
        "outputId": "4aec5af1-a2a9-43b8-a52f-0c32949e26fc"
      },
      "source": [
        "print(open(\"weather.txt\", \"r\").read())"
      ],
      "execution_count": null,
      "outputs": [
        {
          "output_type": "stream",
          "text": [
            "------------London------------\n",
            "Temperature: 285.27\n",
            "Humidity: 66\n",
            "Pressure: 1010\n",
            "Weather Report: overcast clouds\n",
            "\n"
          ],
          "name": "stdout"
        }
      ]
    },
    {
      "cell_type": "code",
      "metadata": {
        "colab": {
          "base_uri": "https://localhost:8080/"
        },
        "id": "kqwsvfxolao7",
        "outputId": "7d0fd59f-83d6-4746-a228-bed8fd8c9cfa"
      },
      "source": [
        "# Khám phá file JSON\n",
        "data"
      ],
      "execution_count": null,
      "outputs": [
        {
          "output_type": "execute_result",
          "data": {
            "text/plain": [
              "{'base': 'stations',\n",
              " 'clouds': {'all': 90},\n",
              " 'cod': 200,\n",
              " 'coord': {'lat': 51.5085, 'lon': -0.1257},\n",
              " 'dt': 1621001655,\n",
              " 'id': 2643743,\n",
              " 'main': {'feels_like': 284.26,\n",
              "  'humidity': 66,\n",
              "  'pressure': 1010,\n",
              "  'temp': 285.27,\n",
              "  'temp_max': 286.48,\n",
              "  'temp_min': 284.26},\n",
              " 'name': 'London',\n",
              " 'sys': {'country': 'GB',\n",
              "  'id': 1414,\n",
              "  'sunrise': 1620965402,\n",
              "  'sunset': 1621021429,\n",
              "  'type': 1},\n",
              " 'timezone': 3600,\n",
              " 'visibility': 10000,\n",
              " 'weather': [{'description': 'overcast clouds',\n",
              "   'icon': '04d',\n",
              "   'id': 804,\n",
              "   'main': 'Clouds'}],\n",
              " 'wind': {'deg': 360, 'speed': 3.09}}"
            ]
          },
          "metadata": {
            "tags": []
          },
          "execution_count": 27
        }
      ]
    },
    {
      "cell_type": "code",
      "metadata": {
        "colab": {
          "base_uri": "https://localhost:8080/",
          "height": 35
        },
        "id": "9m9ccXB6nOyN",
        "outputId": "66ba20d7-144a-4c0e-dc33-2d3a082c0f49"
      },
      "source": [
        "data['name']"
      ],
      "execution_count": null,
      "outputs": [
        {
          "output_type": "execute_result",
          "data": {
            "application/vnd.google.colaboratory.intrinsic+json": {
              "type": "string"
            },
            "text/plain": [
              "'London'"
            ]
          },
          "metadata": {
            "tags": []
          },
          "execution_count": 29
        }
      ]
    },
    {
      "cell_type": "code",
      "metadata": {
        "colab": {
          "base_uri": "https://localhost:8080/"
        },
        "id": "-hfJui94nQ8i",
        "outputId": "7bde6c87-a95b-453a-c24b-3a8026c2793e"
      },
      "source": [
        "data['coord']['lat']"
      ],
      "execution_count": null,
      "outputs": [
        {
          "output_type": "execute_result",
          "data": {
            "text/plain": [
              "51.5085"
            ]
          },
          "metadata": {
            "tags": []
          },
          "execution_count": 30
        }
      ]
    },
    {
      "cell_type": "markdown",
      "metadata": {
        "id": "jbmpcldqGhuk"
      },
      "source": [
        "### TODO #3\n",
        "1. Trên file json kết quả:\n",
        "  - Lấy thông tin trạng thái thời tiết (weather) chính (main) ở London\n",
        "  - Lấy lat & lon (kinh độ và vĩ độ của London)\n",
        "2. Viết function `get_weather_data` \n",
        "  - inputs: city\n",
        "  - outputs: đoạn text thông tin thời tiết\n",
        "3. Dùng function `send_email` in **TODO #1**, thay phần 3 trong nội dùng email bằng thông tin thời tiết của London gửi cho 1 địa chỉ email của bạn"
      ]
    },
    {
      "cell_type": "code",
      "metadata": {
        "id": "p9tm-FzIoof1",
        "colab": {
          "base_uri": "https://localhost:8080/"
        },
        "outputId": "6d5faa67-c7ff-4e4c-cabf-5ad44f162b51"
      },
      "source": [
        "#Task_1\n",
        "print(data['weather'][0]['main'])\n",
        "print(data['coord']['lat'])\n",
        "print(data['coord']['lon'])"
      ],
      "execution_count": null,
      "outputs": [
        {
          "output_type": "stream",
          "text": [
            "Clouds\n",
            "51.5085\n",
            "-0.1257\n"
          ],
          "name": "stdout"
        }
      ]
    },
    {
      "cell_type": "code",
      "metadata": {
        "id": "onTj-Et3o2PO"
      },
      "source": [
        "def get_weather_data(city):\n",
        "  API_KEY = os.environ['WEATHER_API_KEY']\n",
        "  URL = \"https://api.openweathermap.org/data/2.5/weather?\" + \"q=\" + city + \"&appid=\" + API_KEY\n",
        "  response = requests.get(URL)\n",
        "  # checking the status code of the request\n",
        "  if response.status_code == 200:\n",
        "    data = response.json()\n",
        "    main = data['main']\n",
        "    temperature = main['temp']\n",
        "    humidity = main['humidity']\n",
        "    pressure = main['pressure']\n",
        "    report = data['weather']\n",
        "    f = open('send_weather.txt','w') ## write to text file\n",
        "    print(f\"{city:-^30}\", file=f)\n",
        "    print(f\"Temperature: {temperature}\", file=f)\n",
        "    print(f\"Humidity: {humidity}\", file=f)\n",
        "    print(f\"Pressure: {pressure}\", file=f)\n",
        "    print(f\"Weather Report: {report[0]['description']}\", file=f)\n",
        "    f.close()\n",
        "    print(\"DONE! Output in send_weather.txt file\")\n",
        "  else:\n",
        "   # showing the error message\n",
        "    print(\"Error in the HTTP request\")\n",
        "    print(response)"
      ],
      "execution_count": null,
      "outputs": []
    },
    {
      "cell_type": "code",
      "metadata": {
        "id": "BVToxNqRiXgK"
      },
      "source": [
        "def send_email_weather(receiver_email_weather):\n",
        "  template = MIMEMultipart()\n",
        "  template[\"From\"] = sender_email\n",
        "  template[\"To\"] = receiver_email_weather\n",
        "  template[\"Subject\"] = \"The Weather at \" + city_weather\n",
        "  \n",
        "  part = MIMEText(open('send_weather.txt').read())\n",
        "\n",
        "  template.attach(part)\n",
        "\n",
        "  session = smtplib.SMTP('smtp.gmail.com', 587) #use gmail with port\n",
        "  session.starttls() #enable security\n",
        "  session.login(sender_email, password) #login with mail_id and password\n",
        "  text = template.as_string()\n",
        "  session.sendmail(sender_email, receiver_email_weather, text)\n",
        "  print('Email Sent To ' + str(receiver_email_weather))"
      ],
      "execution_count": null,
      "outputs": []
    },
    {
      "cell_type": "code",
      "metadata": {
        "id": "BxVhcoDuo78n",
        "colab": {
          "base_uri": "https://localhost:8080/"
        },
        "outputId": "cd3c2520-bddb-41f2-84c0-d2ead4fe8a90"
      },
      "source": [
        "print('Which city do you want to know the weather:',)\n",
        "city_weather = input()\n",
        "get_weather_data(city_weather)\n",
        "print(open(\"send_weather.txt\", \"r\").read())\n",
        "print('Email received the weather news:')\n",
        "receiver_email_weather = input()\n",
        "send_email_weather(receiver_email_weather)"
      ],
      "execution_count": null,
      "outputs": [
        {
          "output_type": "stream",
          "text": [
            "Which city do you want to know the weather:\n",
            "Hanoi\n",
            "DONE! Output in send_weather.txt file\n",
            "------------Hanoi-------------\n",
            "Temperature: 302.15\n",
            "Humidity: 84\n",
            "Pressure: 1006\n",
            "Weather Report: few clouds\n",
            "\n",
            "Email received the weather news:\n",
            "nguyennguyen.sayuri@gmail.com\n",
            "Email Sent To nguyennguyen.sayuri@gmail.com\n"
          ],
          "name": "stdout"
        }
      ]
    },
    {
      "cell_type": "markdown",
      "metadata": {
        "id": "qdAc1M91tLRV"
      },
      "source": [
        "## Web Scrapping"
      ]
    },
    {
      "cell_type": "markdown",
      "metadata": {
        "id": "9lJY0KlSrLIy"
      },
      "source": [
        "### Concept: Web Scrapping\n",
        "* Web Scrapping là hoạt động lấy data từ các website. Nội dung của các website được trình bày bằng HTML\n",
        "* Để hiểu cấu trúc của HTML: Có thể vào `Chrome => More Tools => Developer Tools`\n",
        "* Cấu trúc và cách lấy giá trị của HTML cũng tương tự như JSON và Dictionary.\n",
        "* BeautifulSoup là một modules cho phép ta trích xuất thông tin từ HTML dễ dàng hơn\n",
        "\n",
        "**Reference**\n",
        "https://www.freecodecamp.org/news/scraping-wikipedia-articles-with-python/"
      ]
    },
    {
      "cell_type": "code",
      "metadata": {
        "id": "Bnp36lyEtxS0",
        "colab": {
          "base_uri": "https://localhost:8080/"
        },
        "outputId": "babb36d2-3cf9-49a7-ab01-472572fd059b"
      },
      "source": [
        "response = requests.get(\n",
        "\turl=\"https://en.wikipedia.org/wiki/COVID-19\",\n",
        "  )\n",
        "print(\"API Status Code: \"+ str(response.status_code))\n",
        "soup = BeautifulSoup(response.content, 'html.parser')\n",
        "\n",
        "title = soup.find(id=\"firstHeading\")\n",
        "print(title.string)"
      ],
      "execution_count": null,
      "outputs": [
        {
          "output_type": "stream",
          "text": [
            "API Status Code: 200\n",
            "COVID-19\n"
          ],
          "name": "stdout"
        }
      ]
    },
    {
      "cell_type": "code",
      "metadata": {
        "id": "lY8xzPlJt5U3"
      },
      "source": [
        "response.content ## Explore contents"
      ],
      "execution_count": null,
      "outputs": []
    },
    {
      "cell_type": "code",
      "metadata": {
        "id": "jvjNUghruM3j"
      },
      "source": [
        "# Get all the links\n",
        "p = soup.find(id=\"bodyContent\").find_all(\"p\") # \"a\""
      ],
      "execution_count": null,
      "outputs": []
    },
    {
      "cell_type": "code",
      "metadata": {
        "colab": {
          "base_uri": "https://localhost:8080/",
          "height": 87
        },
        "id": "Hecg5C84vkzJ",
        "outputId": "5bf57254-ca23-4142-edad-8ba6df258fb5"
      },
      "source": [
        "from IPython.core.display import HTML\n",
        "HTML(str(p[3]))"
      ],
      "execution_count": null,
      "outputs": [
        {
          "output_type": "execute_result",
          "data": {
            "text/html": [
              "<p><b>Coronavirus disease 2019</b> (<b>COVID-19</b>), also known as <b>the coronavirus</b>, or <b>COVID</b>, is a <a href=\"/wiki/Contagious_disease\" title=\"Contagious disease\">contagious disease</a> caused by <a href=\"/wiki/Severe_acute_respiratory_syndrome_coronavirus_2\" title=\"Severe acute respiratory syndrome coronavirus 2\">severe acute respiratory syndrome coronavirus 2</a> (SARS-CoV-2). The first known case was identified in <a href=\"/wiki/Wuhan\" title=\"Wuhan\">Wuhan</a>, China, in December <a href=\"/wiki/2019\" title=\"2019\">2019</a>.<sup class=\"reference\" id=\"cite_ref-WSJ-20210226_7-0\"><a href=\"#cite_note-WSJ-20210226-7\">[7]</a></sup> The disease has since spread worldwide, leading to an <a href=\"/wiki/COVID-19_pandemic\" title=\"COVID-19 pandemic\">ongoing pandemic</a>.<sup class=\"reference\" id=\"cite_ref-NYT-20210226_8-0\"><a href=\"#cite_note-NYT-20210226-8\">[8]</a></sup>\n",
              "</p>"
            ],
            "text/plain": [
              "<IPython.core.display.HTML object>"
            ]
          },
          "metadata": {
            "tags": []
          },
          "execution_count": 92
        }
      ]
    },
    {
      "cell_type": "markdown",
      "metadata": {
        "id": "d7YEfY3qqq10"
      },
      "source": [
        "### TODO #4\n",
        "1. Dùng function `send_email` in Excercise 1.1, thay phần 3 trong nội dùng email bằng thông tin COVID-19 từ Wikipedia gửi cho 1 địa chỉ email của bạn"
      ]
    },
    {
      "cell_type": "code",
      "metadata": {
        "colab": {
          "base_uri": "https://localhost:8080/"
        },
        "id": "6PqUFnYbrzY5",
        "outputId": "ac6047eb-154a-4160-f93b-0e0ac8561c90"
      },
      "source": [
        "def send_email_covid(receiver_email):\n",
        "  template = MIMEMultipart()\n",
        "  template[\"From\"] = sender_email\n",
        "  template[\"To\"] = receiver_email\n",
        "  template[\"Subject\"] = \"COVID19 - Information\"\n",
        "  \n",
        "  part = MIMEText((str(p[3])),'html')\n",
        "\n",
        "  template.attach(part)\n",
        "\n",
        "  session = smtplib.SMTP('smtp.gmail.com', 587) #use gmail with port\n",
        "  session.starttls() #enable security\n",
        "  session.login(sender_email, password) #login with mail_id and password\n",
        "  text = template.as_string()\n",
        "  session.sendmail(sender_email, receiver_email, text)\n",
        "  print('Email Sent To ' + str(receiver_email))\n",
        "\n",
        "send_email_covid('nguyennguyen.sayuri@gmail.com')"
      ],
      "execution_count": null,
      "outputs": [
        {
          "output_type": "stream",
          "text": [
            "Email Sent To nguyennguyen.sayuri@gmail.com\n"
          ],
          "name": "stdout"
        }
      ]
    },
    {
      "cell_type": "markdown",
      "metadata": {
        "id": "kxfS-b_T2W0a"
      },
      "source": [
        "## CSV"
      ]
    },
    {
      "cell_type": "markdown",
      "metadata": {
        "id": "3ssJNK-0rUo4"
      },
      "source": [
        "### Concept CSV\n",
        "* CSV là dạng data có các cột được ngăn cách bằng dấu phẩy ([Comma-separated value](https://en.wikipedia.org/wiki/Comma-separated_values#:~:text=A%20comma%2Dseparated%20values%20(CSV,more%20fields%2C%20separated%20by%20commas.))\n",
        "* Đây là dạng data (bảng) cực kỳ phổ biến trong Data Analytics & Data Science\n",
        "* Có thể đọc, ghi, và xử lý bằng `pandas`"
      ]
    },
    {
      "cell_type": "code",
      "metadata": {
        "id": "36c89M5BymVw"
      },
      "source": [
        "csv = \"\"\"email,contents,city\n",
        "abc@gmail.com,News,Hanoi\n",
        "xyz@gmail.com,Weather,London\n",
        "\"\"\"\n",
        "f = open('email_list.csv','w') ## write to text file\n",
        "f.write(csv)\n",
        "f.close()"
      ],
      "execution_count": null,
      "outputs": []
    },
    {
      "cell_type": "code",
      "metadata": {
        "colab": {
          "base_uri": "https://localhost:8080/"
        },
        "id": "-yNfErkP20Pt",
        "outputId": "aaf39923-3fe0-4b9a-c98d-909bc6cd8d52"
      },
      "source": [
        "!ls"
      ],
      "execution_count": null,
      "outputs": [
        {
          "output_type": "stream",
          "text": [
            "email_list.csv\tenv_variable.json  sample_data\tweather.txt\n"
          ],
          "name": "stdout"
        }
      ]
    },
    {
      "cell_type": "code",
      "metadata": {
        "id": "9BNju19j3B5d"
      },
      "source": [
        "import pandas as pd\n",
        "email_list = pd.read_csv('email_list.csv')"
      ],
      "execution_count": null,
      "outputs": []
    },
    {
      "cell_type": "code",
      "metadata": {
        "colab": {
          "base_uri": "https://localhost:8080/",
          "height": 111
        },
        "id": "AsOSx3hT3Ih2",
        "outputId": "d88c855a-5a75-4be0-876b-939cad2e77f6"
      },
      "source": [
        "email_list"
      ],
      "execution_count": null,
      "outputs": [
        {
          "output_type": "execute_result",
          "data": {
            "text/html": [
              "<div>\n",
              "<style scoped>\n",
              "    .dataframe tbody tr th:only-of-type {\n",
              "        vertical-align: middle;\n",
              "    }\n",
              "\n",
              "    .dataframe tbody tr th {\n",
              "        vertical-align: top;\n",
              "    }\n",
              "\n",
              "    .dataframe thead th {\n",
              "        text-align: right;\n",
              "    }\n",
              "</style>\n",
              "<table border=\"1\" class=\"dataframe\">\n",
              "  <thead>\n",
              "    <tr style=\"text-align: right;\">\n",
              "      <th></th>\n",
              "      <th>email</th>\n",
              "      <th>contents</th>\n",
              "      <th>city</th>\n",
              "    </tr>\n",
              "  </thead>\n",
              "  <tbody>\n",
              "    <tr>\n",
              "      <th>0</th>\n",
              "      <td>abc@gmail.com</td>\n",
              "      <td>News</td>\n",
              "      <td>Hanoi</td>\n",
              "    </tr>\n",
              "    <tr>\n",
              "      <th>1</th>\n",
              "      <td>xyz@gmail.com</td>\n",
              "      <td>Weather</td>\n",
              "      <td>London</td>\n",
              "    </tr>\n",
              "  </tbody>\n",
              "</table>\n",
              "</div>"
            ],
            "text/plain": [
              "           email contents    city\n",
              "0  abc@gmail.com     News   Hanoi\n",
              "1  xyz@gmail.com  Weather  London"
            ]
          },
          "metadata": {
            "tags": []
          },
          "execution_count": 59
        }
      ]
    },
    {
      "cell_type": "markdown",
      "metadata": {
        "id": "lDxNcYmxq3zr"
      },
      "source": [
        "### TODO #5\n",
        "* Add các địa chỉ email có ý nghĩa, và thêm dòng vào file csv (lưu ý không có dấu cách)\n",
        "* Dùng code để gửi email cho một list từ csv:\n",
        "  - Nếu email có contents = 'News' => Gửi thông tin COVID19\n",
        "  - Nếu email có contents = 'Weather' => Gửi thông tin thời tiết theo thành phố trong cột city (lưu ý check các city được hỗ trợ trong API)\n",
        "\n",
        "**Hints:**\n",
        "* Sử dụng loops for ... in \n",
        "* Sử dụng function `send_email`, `get_weather_data`"
      ]
    },
    {
      "cell_type": "code",
      "metadata": {
        "id": "0BT11gFu1Q6R"
      },
      "source": [
        "from csv import writer\n",
        "def append_list_as_row(file_name, list_of_elem):\n",
        "    # Open file in append mode\n",
        "    with open(file_name, 'a+', newline='') as write_obj:\n",
        "        # Create a writer object from csv module\n",
        "        csv_writer = writer(write_obj)\n",
        "        # Add contents of list as last row in the csv file\n",
        "        csv_writer.writerow(list_of_elem)"
      ],
      "execution_count": null,
      "outputs": []
    },
    {
      "cell_type": "code",
      "metadata": {
        "colab": {
          "base_uri": "https://localhost:8080/",
          "height": 204
        },
        "id": "33A-Vn11y2Ta",
        "outputId": "b109cb1d-450d-4090-810f-18230845ac13"
      },
      "source": [
        "row_1= ['nguyennguyen.sayuri@gmail.com','News','Montreal']\n",
        "append_list_as_row('email_list.csv',row_1)\n",
        "email_list = pd.read_csv('email_list.csv')\n",
        "email_list"
      ],
      "execution_count": null,
      "outputs": [
        {
          "output_type": "execute_result",
          "data": {
            "text/html": [
              "<div>\n",
              "<style scoped>\n",
              "    .dataframe tbody tr th:only-of-type {\n",
              "        vertical-align: middle;\n",
              "    }\n",
              "\n",
              "    .dataframe tbody tr th {\n",
              "        vertical-align: top;\n",
              "    }\n",
              "\n",
              "    .dataframe thead th {\n",
              "        text-align: right;\n",
              "    }\n",
              "</style>\n",
              "<table border=\"1\" class=\"dataframe\">\n",
              "  <thead>\n",
              "    <tr style=\"text-align: right;\">\n",
              "      <th></th>\n",
              "      <th>email</th>\n",
              "      <th>contents</th>\n",
              "      <th>city</th>\n",
              "    </tr>\n",
              "  </thead>\n",
              "  <tbody>\n",
              "    <tr>\n",
              "      <th>0</th>\n",
              "      <td>abc@gmail.com</td>\n",
              "      <td>News</td>\n",
              "      <td>Hanoi</td>\n",
              "    </tr>\n",
              "    <tr>\n",
              "      <th>1</th>\n",
              "      <td>xyz@gmail.com</td>\n",
              "      <td>Weather</td>\n",
              "      <td>London</td>\n",
              "    </tr>\n",
              "    <tr>\n",
              "      <th>2</th>\n",
              "      <td>nguyennguyen.sayuri@gmail.com</td>\n",
              "      <td>News</td>\n",
              "      <td>Montreal</td>\n",
              "    </tr>\n",
              "    <tr>\n",
              "      <th>3</th>\n",
              "      <td>nguyennguyen.sayuri@gmail.com</td>\n",
              "      <td>News</td>\n",
              "      <td>Montreal</td>\n",
              "    </tr>\n",
              "    <tr>\n",
              "      <th>4</th>\n",
              "      <td>nguyennguyen.sayuri@gmail.com</td>\n",
              "      <td>News</td>\n",
              "      <td>Montreal</td>\n",
              "    </tr>\n",
              "  </tbody>\n",
              "</table>\n",
              "</div>"
            ],
            "text/plain": [
              "                           email contents      city\n",
              "0                  abc@gmail.com     News     Hanoi\n",
              "1                  xyz@gmail.com  Weather    London\n",
              "2  nguyennguyen.sayuri@gmail.com     News  Montreal\n",
              "3  nguyennguyen.sayuri@gmail.com     News  Montreal\n",
              "4  nguyennguyen.sayuri@gmail.com     News  Montreal"
            ]
          },
          "metadata": {
            "tags": []
          },
          "execution_count": 105
        }
      ]
    },
    {
      "cell_type": "code",
      "metadata": {
        "colab": {
          "base_uri": "https://localhost:8080/"
        },
        "id": "EQ9nMwc93KS8",
        "outputId": "da3c0704-8061-4fd4-86eb-9bf264064637"
      },
      "source": [
        "n= len(email_list)\n",
        "for i in range(n):\n",
        "  print('Email #{}'.format(i))\n",
        "  if email_list['contents'][i] == 'News':\n",
        "    print('COVID To: {}'.format(email_list['email'][i]))\n",
        "    send_email_covid(email_list['email'][i])\n",
        "    # TODO: Send a COVID News\n",
        "  elif email_list['contents'][i] == 'Weather':\n",
        "    print('Weather To: {}'.format(email_list['email'][i]))\n",
        "    send_email_weather(email_list['email'][i])\n",
        "    # TODO: Send a Weather updates by the city\n",
        "  else:\n",
        "    print('Invalid Contents')\n",
        "print('DONE!')"
      ],
      "execution_count": null,
      "outputs": [
        {
          "output_type": "stream",
          "text": [
            "Email #0\n",
            "COVID To: abc@gmail.com\n",
            "Email Sent To abc@gmail.com\n",
            "Email #1\n",
            "Weather To: xyz@gmail.com\n",
            "Email Sent To xyz@gmail.com\n",
            "Email #2\n",
            "COVID To: nguyennguyen.sayuri@gmail.com\n",
            "Email Sent To nguyennguyen.sayuri@gmail.com\n",
            "Email #3\n",
            "COVID To: nguyennguyen.sayuri@gmail.com\n",
            "Email Sent To nguyennguyen.sayuri@gmail.com\n",
            "Email #4\n",
            "COVID To: nguyennguyen.sayuri@gmail.com\n",
            "Email Sent To nguyennguyen.sayuri@gmail.com\n",
            "DONE!\n"
          ],
          "name": "stdout"
        }
      ]
    }
  ]
}